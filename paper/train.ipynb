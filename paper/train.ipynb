{
 "cells": [
  {
   "cell_type": "code",
   "execution_count": 3,
   "metadata": {
    "metadata": {}
   },
   "outputs": [],
   "source": [
    "import numpy as np\n",
    "from pathlib import Path\n",
    "import egobox as egx\n",
    "from sklearn.metrics import r2_score, mean_squared_error\n",
    "from sklearn.model_selection import train_test_split\n",
    "from sklearn.preprocessing import MinMaxScaler\n",
    "# from rich import print\n",
    "import pickle\n",
    "from _cad import MyGPX"
   ]
  },
  {
   "cell_type": "code",
   "execution_count": 4,
   "metadata": {
    "metadata": {}
   },
   "outputs": [
    {
     "name": "stdout",
     "output_type": "stream",
     "text": [
      "(1500, 9) (1500, 25)\n",
      "(1425, 25) (1425, 1)\n"
     ]
    }
   ],
   "source": [
    "cfd_dir=Path(\"./result/CFD/\")\n",
    "cfdData=[]\n",
    "for i in range(1500):\n",
    "    filename=cfd_dir/f\"{i:03d}.csv\"\n",
    "    tmp=np.loadtxt(fname=filename,delimiter=',',ndmin=2)[:,[0,1,3]]\n",
    "    if np.any(tmp[:,[0,1]]<0.):\n",
    "        print(i)\n",
    "    tmp=tmp.ravel()\n",
    "    if len(tmp)!=9:\n",
    "        print(f\"{i:03d} is error!\")\n",
    "    else:\n",
    "        cfdData.append(tmp)\n",
    "cfdData=np.vstack(cfdData)\n",
    "cadData=np.loadtxt(\"./sample.csv\",delimiter=',',ndmin=2)\n",
    "print(cfdData.shape,cadData.shape)\n",
    "\n",
    "# flag=600\n",
    "# trainX=cadData[:flag,:]\n",
    "# testX=cadData[flag:,:]\n",
    "# trainY=cfdData[:flag,:]\n",
    "# testY=cfdData[flag:,:]\n",
    "cfdID=3\n",
    "X_train, X_test, Y_train, Y_test = train_test_split(cadData, cfdData[:,[cfdID]], test_size = 75,shuffle=False, random_state = 1)\n",
    "print(X_train.shape,Y_train.shape)\n",
    "\n",
    "scalerX=MinMaxScaler()\n",
    "scalerY=MinMaxScaler()\n",
    "\n",
    "scalerX=scalerX.fit(X_train)\n",
    "scalerY=scalerY.fit(Y_train)\n",
    "\n",
    "X_train=scalerX.transform(X_train)\n",
    "X_test=scalerX.transform(X_test)\n",
    "\n",
    "Y_train=scalerY.transform(Y_train)\n",
    "Y_test=scalerY.transform(Y_test)\n"
   ]
  },
  {
   "cell_type": "code",
   "execution_count": 5,
   "metadata": {
    "metadata": {}
   },
   "outputs": [
    {
     "name": "stdout",
     "output_type": "stream",
     "text": [
      "___________________________________________________________________________\n",
      "   \n",
      "                                   KPLS\n",
      "___________________________________________________________________________\n",
      "   \n",
      " Problem size\n",
      "   \n",
      "      # training points.        : 1425\n",
      "   \n",
      "___________________________________________________________________________\n",
      "   \n",
      " Training\n",
      "   \n",
      "   Training ...\n",
      "   Training - done. Time (sec): 137.2410319\n",
      "train_error_r2 1.0\n",
      "train_error_mean 4.434473023827544e-30\n",
      "test_error_r2 0.35948342697657354\n",
      "test_error_mean 0.004437948711531421\n"
     ]
    }
   ],
   "source": [
    "from smt.surrogate_models import KPLS\n",
    "\n",
    "sm=KPLS(n_comp=1,print_prediction=False)\n",
    "sm.set_training_values(xt=X_train,yt=Y_train)\n",
    "sm.train()\n",
    "\n",
    "pred_Y=sm.predict_values(X_train)\n",
    "print(\"train_error_r2\",r2_score(Y_train.ravel(),pred_Y.ravel()))\n",
    "print(\"train_error_mean\",mean_squared_error(Y_train,pred_Y))\n",
    "\n",
    "pred_Y=sm.predict_values(X_test)\n",
    "print(\"test_error_r2\",r2_score(Y_test.ravel(),pred_Y.ravel()))\n",
    "print(\"test_error_mean\",mean_squared_error(Y_test,pred_Y))\n"
   ]
  },
  {
   "cell_type": "code",
   "execution_count": 6,
   "metadata": {
    "metadata": {}
   },
   "outputs": [
    {
     "name": "stdout",
     "output_type": "stream",
     "text": [
      "[2.384452   2.37981    2.39928462 2.37619637 2.41063803 2.34826263\n",
      " 2.26046747 2.36751269 2.26254013]\n",
      "[2.384452 2.37981  2.398755 2.388928 2.407144 2.330423 2.1939   2.336977\n",
      " 2.389824]\n"
     ]
    }
   ],
   "source": [
    "IDs=[0,799,1460,1462,1464,1466,1470,1475,1480]\n",
    "cadData_nor=scalerX.transform(cadData)\n",
    "pred_Y=sm.predict_values(x=cadData_nor[IDs,:])\n",
    "print(scalerY.inverse_transform(pred_Y).ravel())\n",
    "print(cfdData[[IDs],[cfdID]].ravel())"
   ]
  },
  {
   "cell_type": "code",
   "execution_count": null,
   "metadata": {},
   "outputs": [],
   "source": []
  },
  {
   "cell_type": "code",
   "execution_count": null,
   "metadata": {},
   "outputs": [],
   "source": []
  },
  {
   "cell_type": "code",
   "execution_count": null,
   "metadata": {},
   "outputs": [],
   "source": []
  },
  {
   "cell_type": "code",
   "execution_count": null,
   "metadata": {},
   "outputs": [],
   "source": []
  },
  {
   "cell_type": "code",
   "execution_count": null,
   "metadata": {},
   "outputs": [],
   "source": []
  },
  {
   "cell_type": "code",
   "execution_count": 26,
   "metadata": {
    "metadata": {}
   },
   "outputs": [
    {
     "data": {
      "text/html": [
       "<pre style=\"white-space:pre;overflow-x:auto;line-height:normal;font-family:Menlo,'DejaVu Sans Mono',consolas,'Courier New',monospace\">train_error_r2 <span style=\"color: #008080; text-decoration-color: #008080; font-weight: bold\">1.0</span>\n",
       "</pre>\n"
      ],
      "text/plain": [
       "train_error_r2 \u001b[1;36m1.0\u001b[0m\n"
      ]
     },
     "metadata": {},
     "output_type": "display_data"
    },
    {
     "data": {
      "text/html": [
       "<pre style=\"white-space:pre;overflow-x:auto;line-height:normal;font-family:Menlo,'DejaVu Sans Mono',consolas,'Courier New',monospace\">train_error_mean <span style=\"color: #008080; text-decoration-color: #008080; font-weight: bold\">2.0237112151504553e-25</span>\n",
       "</pre>\n"
      ],
      "text/plain": [
       "train_error_mean \u001b[1;36m2.0237112151504553e-25\u001b[0m\n"
      ]
     },
     "metadata": {},
     "output_type": "display_data"
    },
    {
     "data": {
      "text/html": [
       "<pre style=\"white-space:pre;overflow-x:auto;line-height:normal;font-family:Menlo,'DejaVu Sans Mono',consolas,'Courier New',monospace\">test_error_r2 <span style=\"color: #008080; text-decoration-color: #008080; font-weight: bold\">0.07088371864094467</span>\n",
       "</pre>\n"
      ],
      "text/plain": [
       "test_error_r2 \u001b[1;36m0.07088371864094467\u001b[0m\n"
      ]
     },
     "metadata": {},
     "output_type": "display_data"
    },
    {
     "data": {
      "text/html": [
       "<pre style=\"white-space:pre;overflow-x:auto;line-height:normal;font-family:Menlo,'DejaVu Sans Mono',consolas,'Courier New',monospace\">test_error_mean <span style=\"color: #008080; text-decoration-color: #008080; font-weight: bold\">1.0705979597977007</span>\n",
       "</pre>\n"
      ],
      "text/plain": [
       "test_error_mean \u001b[1;36m1.0705979597977007\u001b[0m\n"
      ]
     },
     "metadata": {},
     "output_type": "display_data"
    }
   ],
   "source": [
    "gpx=egx.Gpx.builder(n_clusters=1,regr_spec=7,corr_spec=15,kpls_dim=15,n_start=30,seed=1).fit(X_train,Y_train)\n",
    "\n",
    "pred_Y=gpx.predict(X_train)\n",
    "print(\"train_error_r2\",r2_score(Y_train.ravel(),pred_Y.ravel()))\n",
    "print(\"train_error_mean\",mean_squared_error(Y_train,pred_Y))\n",
    "\n",
    "pred_Y=gpx.predict(X_test)\n",
    "print(\"test_error_r2\",r2_score(Y_test.ravel(),pred_Y.ravel()))\n",
    "print(\"test_error_mean\",mean_squared_error(Y_test,pred_Y))\n"
   ]
  },
  {
   "cell_type": "code",
   "execution_count": 24,
   "metadata": {
    "metadata": {}
   },
   "outputs": [
    {
     "data": {
      "text/html": [
       "<pre style=\"white-space:pre;overflow-x:auto;line-height:normal;font-family:Menlo,'DejaVu Sans Mono',consolas,'Courier New',monospace\"><span style=\"font-weight: bold\">[[</span><span style=\"color: #008080; text-decoration-color: #008080; font-weight: bold\">0.069824</span>  <span style=\"font-weight: bold\">]</span>\n",
       " <span style=\"font-weight: bold\">[</span><span style=\"color: #008080; text-decoration-color: #008080; font-weight: bold\">0.062209</span>  <span style=\"font-weight: bold\">]</span>\n",
       " <span style=\"font-weight: bold\">[</span><span style=\"color: #008080; text-decoration-color: #008080; font-weight: bold\">0.07476958</span><span style=\"font-weight: bold\">]</span>\n",
       " <span style=\"font-weight: bold\">[</span><span style=\"color: #008080; text-decoration-color: #008080; font-weight: bold\">0.10917041</span><span style=\"font-weight: bold\">]]</span>\n",
       "</pre>\n"
      ],
      "text/plain": [
       "\u001b[1m[\u001b[0m\u001b[1m[\u001b[0m\u001b[1;36m0.069824\u001b[0m  \u001b[1m]\u001b[0m\n",
       " \u001b[1m[\u001b[0m\u001b[1;36m0.062209\u001b[0m  \u001b[1m]\u001b[0m\n",
       " \u001b[1m[\u001b[0m\u001b[1;36m0.07476958\u001b[0m\u001b[1m]\u001b[0m\n",
       " \u001b[1m[\u001b[0m\u001b[1;36m0.10917041\u001b[0m\u001b[1m]\u001b[0m\u001b[1m]\u001b[0m\n"
      ]
     },
     "metadata": {},
     "output_type": "display_data"
    },
    {
     "data": {
      "text/html": [
       "<pre style=\"white-space:pre;overflow-x:auto;line-height:normal;font-family:Menlo,'DejaVu Sans Mono',consolas,'Courier New',monospace\"><span style=\"font-weight: bold\">[[</span><span style=\"color: #008080; text-decoration-color: #008080; font-weight: bold\">0.069824</span> <span style=\"color: #008080; text-decoration-color: #008080; font-weight: bold\">0.062209</span> <span style=\"color: #008080; text-decoration-color: #008080; font-weight: bold\">0.064394</span> <span style=\"color: #008080; text-decoration-color: #008080; font-weight: bold\">0.067588</span><span style=\"font-weight: bold\">]]</span>\n",
       "</pre>\n"
      ],
      "text/plain": [
       "\u001b[1m[\u001b[0m\u001b[1m[\u001b[0m\u001b[1;36m0.069824\u001b[0m \u001b[1;36m0.062209\u001b[0m \u001b[1;36m0.064394\u001b[0m \u001b[1;36m0.067588\u001b[0m\u001b[1m]\u001b[0m\u001b[1m]\u001b[0m\n"
      ]
     },
     "metadata": {},
     "output_type": "display_data"
    }
   ],
   "source": [
    "vX=scalerX.transform(cadData)\n",
    "# vX=cadData\n",
    "pred_Y=gpx.predict(vX[[0,200,1493,1499],:])\n",
    "# print(pred_Y)\n",
    "print(scalerY.inverse_transform(pred_Y))\n",
    "\n",
    "print(cfdData[[[0,200,1493,1499]],[cfdID]])"
   ]
  },
  {
   "cell_type": "code",
   "execution_count": 93,
   "metadata": {
    "metadata": {}
   },
   "outputs": [],
   "source": [
    "mygpx=MyGPX(tag=cfdID,scalerX=scalerX,scalerY=scalerY,gpx=gpx)\n",
    "mygpx.save()"
   ]
  },
  {
   "cell_type": "code",
   "execution_count": 94,
   "metadata": {
    "metadata": {}
   },
   "outputs": [
    {
     "data": {
      "text/html": [
       "<pre style=\"white-space:pre;overflow-x:auto;line-height:normal;font-family:Menlo,'DejaVu Sans Mono',consolas,'Courier New',monospace\"><span style=\"font-weight: bold\">[[</span><span style=\"color: #008080; text-decoration-color: #008080; font-weight: bold\">0.113469</span><span style=\"font-weight: bold\">]</span>\n",
       " <span style=\"font-weight: bold\">[</span><span style=\"color: #008080; text-decoration-color: #008080; font-weight: bold\">0.079558</span><span style=\"font-weight: bold\">]</span>\n",
       " <span style=\"font-weight: bold\">[</span><span style=\"color: #008080; text-decoration-color: #008080; font-weight: bold\">0.326469</span><span style=\"font-weight: bold\">]</span>\n",
       " <span style=\"font-weight: bold\">[</span><span style=\"color: #008080; text-decoration-color: #008080; font-weight: bold\">0.392096</span><span style=\"font-weight: bold\">]</span>\n",
       " <span style=\"font-weight: bold\">[</span><span style=\"color: #008080; text-decoration-color: #008080; font-weight: bold\">0.092398</span><span style=\"font-weight: bold\">]]</span>\n",
       "</pre>\n"
      ],
      "text/plain": [
       "\u001b[1m[\u001b[0m\u001b[1m[\u001b[0m\u001b[1;36m0.113469\u001b[0m\u001b[1m]\u001b[0m\n",
       " \u001b[1m[\u001b[0m\u001b[1;36m0.079558\u001b[0m\u001b[1m]\u001b[0m\n",
       " \u001b[1m[\u001b[0m\u001b[1;36m0.326469\u001b[0m\u001b[1m]\u001b[0m\n",
       " \u001b[1m[\u001b[0m\u001b[1;36m0.392096\u001b[0m\u001b[1m]\u001b[0m\n",
       " \u001b[1m[\u001b[0m\u001b[1;36m0.092398\u001b[0m\u001b[1m]\u001b[0m\u001b[1m]\u001b[0m\n"
      ]
     },
     "metadata": {},
     "output_type": "display_data"
    }
   ],
   "source": [
    "mygpx=MyGPX(tag=cfdID)\n",
    "mygpx.load()\n",
    "pred_Y=mygpx.predict(cadData[[0,1,199,200,399],:])\n",
    "print(pred_Y)"
   ]
  }
 ],
 "metadata": {
  "kernelspec": {
   "display_name": "opt",
   "language": "python",
   "name": "python3"
  },
  "language_info": {
   "codemirror_mode": {
    "name": "ipython",
    "version": 3
   },
   "file_extension": ".py",
   "mimetype": "text/x-python",
   "name": "python",
   "nbconvert_exporter": "python",
   "pygments_lexer": "ipython3",
   "version": "3.11.9"
  }
 },
 "nbformat": 4,
 "nbformat_minor": 2
}
